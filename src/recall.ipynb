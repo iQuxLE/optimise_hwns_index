{
 "cells": [
  {
   "metadata": {},
   "cell_type": "markdown",
   "source": [
    "### Getting optimal parameters for HNSW index\n",
    "\n",
    "In this notebook, we will demonstrate how to find the optimal parameters for the HNSW index to achieve a high recall rate. Recall is a measure of the number of relevant items that are retrieved by a search algorithm. In the context of nearest neighbor search, recall is the proportion of true nearest neighbors that are returned in the top-k results. A recall of 1 indicates that all true nearest neighbors are retrieved, while a recall of 0 means that none of the true nearest neighbors are found.\n",
    "\n",
    "We will use a synthetic dataset and perform a brute-force search to calculate the recall of the HNSW index with different parameter settings. The parameters we will tune are `M` (the number of neighbors to consider during construction), `ef` (the size of the dynamic list for the nearest neighbors), and `ef_construction` (the size of the dynamic list during construction). We will start with some initial values and iteratively adjust the parameters to increase the recall rate.\n",
    "\n",
    "Let's start by importing the necessary libraries and generating the synthetic data."
   ],
   "id": "6a0a5600361c4e5f"
  },
  {
   "metadata": {
    "jupyter": {
     "is_executing": true
    },
    "ExecuteTime": {
     "start_time": "2024-08-24T02:18:46.419614Z"
    }
   },
   "cell_type": "code",
   "source": [
    "import hnswlib\n",
    "import numpy as np\n",
    "\n",
    "# Parameters\n",
    "dim = 512  # Embedding dimension\n",
    "num_elements = 27000  # Number of items (e.g., products)\n",
    "num_queries = 100  # Number of queries to test\n",
    "k = 10  # Number of nearest neighbors to retrieve\n",
    "\n",
    "# Generate synthetic data\n",
    "synthetic_data = np.random.random((num_elements, dim)).astype(np.float32)\n",
    "\n",
    "# Function to calculate recall\n",
    "def calculate_recall(M, ef, ef_construction):\n",
    "    # Initialize HNSW index\n",
    "    hnsw_index = hnswlib.Index(space='l2', dim=dim)\n",
    "    hnsw_index.init_index(max_elements=num_elements, ef_construction=ef_construction, M=M)\n",
    "    \n",
    "    # Add synthetic data to the index\n",
    "    hnsw_index.add_items(synthetic_data)\n",
    "    \n",
    "    # Initialize brute-force index for comparison\n",
    "    bf_index = hnswlib.BFIndex(space='l2', dim=dim)\n",
    "    bf_index.init_index(max_elements=num_elements)\n",
    "    bf_index.add_items(synthetic_data)\n",
    "    \n",
    "    # Set search parameter for HNSW\n",
    "    hnsw_index.set_ef(ef)\n",
    "    hnsw_index.set_num_threads(4)\n",
    "    \n",
    "    # Generate random queries\n",
    "    query_data = np.random.random((num_queries, dim)).astype(np.float32)\n",
    "    \n",
    "    # Perform knn search on both indices\n",
    "    labels_hnsw, _ = hnsw_index.knn_query(query_data, k)\n",
    "    labels_bf, _ = bf_index.knn_query(query_data, k)\n",
    "    \n",
    "    # Calculate recall\n",
    "    correct = sum([1 for i in range(num_queries) for l in labels_hnsw[i] if l in labels_bf[i]])\n",
    "    recall = float(correct) / (k * num_queries)\n",
    "    \n",
    "    return recall\n",
    "\n",
    "# Initial parameter values\n",
    "M = 16\n",
    "ef = 100\n",
    "ef_construction = 200\n",
    "\n",
    "# Measure initial recall\n",
    "initial_recall = calculate_recall(M, ef, ef_construction)\n",
    "print(f\"Initial recall with M={M}, ef={ef}, ef_construction={ef_construction}: {initial_recall:.4f}\")\n",
    "\n",
    "# Iteratively adjust parameters to increase recall\n",
    "target_recall = 0.95  # Target recall close to 1\n",
    "step_size = 50\n",
    "max_ef = 1000\n",
    "while initial_recall < target_recall and ef <= max_ef:\n",
    "    # Increase ef\n",
    "    ef += step_size\n",
    "    initial_recall = calculate_recall(M, ef, ef_construction)\n",
    "    print(f\"Adjusted recall with M={M}, ef={ef}, ef_construction={ef_construction}: {initial_recall:.4f}\")\n",
    "\n",
    "# If recall is still not high enough, adjust M\n",
    "if initial_recall < target_recall:\n",
    "    print(\"\\nIncreasing M for further optimization...\")\n",
    "    M = 32\n",
    "    ef = 200\n",
    "    ef_construction = 300\n",
    "    \n",
    "    initial_recall = calculate_recall(M, ef, ef_construction)\n",
    "    print(f\"Recall after increasing M to {M} with ef={ef}, ef_construction={ef_construction}: {initial_recall:.4f}\")\n",
    "\n",
    "    # Further adjust ef\n",
    "    while initial_recall < target_recall and ef <= max_ef:\n",
    "        ef += step_size\n",
    "        initial_recall = calculate_recall(M, ef, ef_construction)\n",
    "        print(f\"Adjusted recall with M={M}, ef={ef}, ef_construction={ef_construction}: {initial_recall:.4f}\")\n",
    "    \n",
    "print(\"\\nFinal parameter settings to achieve recall close to 1:\")\n",
    "print(f\"M = {M}, ef = {ef}, ef_construction = {ef_construction}, Recall = {initial_recall:.4f}\")\n"
   ],
   "id": "48f82e962836ecd3",
   "outputs": [
    {
     "name": "stdout",
     "output_type": "stream",
     "text": [
      "Initial recall with M=16, ef=100, ef_construction=200: 0.4400\n"
     ]
    }
   ],
   "execution_count": null
  },
  {
   "metadata": {},
   "cell_type": "code",
   "outputs": [],
   "execution_count": null,
   "source": "",
   "id": "f08780fb152c6ee2"
  }
 ],
 "metadata": {
  "kernelspec": {
   "display_name": "Python 3",
   "language": "python",
   "name": "python3"
  },
  "language_info": {
   "codemirror_mode": {
    "name": "ipython",
    "version": 2
   },
   "file_extension": ".py",
   "mimetype": "text/x-python",
   "name": "python",
   "nbconvert_exporter": "python",
   "pygments_lexer": "ipython2",
   "version": "2.7.6"
  }
 },
 "nbformat": 4,
 "nbformat_minor": 5
}
